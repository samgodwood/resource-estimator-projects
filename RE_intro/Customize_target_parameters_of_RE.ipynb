{
 "cells": [
  {
   "cell_type": "markdown",
   "metadata": {},
   "source": [
    "# Customizing the Target Parameters of the Resource Estimator "
   ]
  },
  {
   "cell_type": "code",
   "execution_count": 1,
   "metadata": {},
   "outputs": [
    {
     "data": {
      "application/javascript": "// Copyright (c) Microsoft Corporation.\n// Licensed under the MIT License.\n\n// This file provides CodeMirror syntax highlighting for Q# magic cells\n// in classic Jupyter Notebooks. It does nothing in other (Jupyter Notebook 7,\n// VS Code, Azure Notebooks, etc.) environments.\n\n// Detect the prerequisites and do nothing if they don't exist.\nif (window.require && window.CodeMirror && window.Jupyter) {\n  // The simple mode plugin for CodeMirror is not loaded by default, so require it.\n  window.require([\"codemirror/addon/mode/simple\"], function defineMode() {\n    let rules = [\n      {\n        token: \"comment\",\n        regex: /(\\/\\/).*/,\n        beginWord: false,\n      },\n      {\n        token: \"string\",\n        regex: String.raw`^\\\"(?:[^\\\"\\\\]|\\\\[\\s\\S])*(?:\\\"|$)`,\n        beginWord: false,\n      },\n      {\n        token: \"keyword\",\n        regex: String.raw`(namespace|open|as|operation|function|body|adjoint|newtype|controlled|internal)\\b`,\n        beginWord: true,\n      },\n      {\n        token: \"keyword\",\n        regex: String.raw`(if|elif|else|repeat|until|fixup|for|in|return|fail|within|apply)\\b`,\n        beginWord: true,\n      },\n      {\n        token: \"keyword\",\n        regex: String.raw`(Adjoint|Controlled|Adj|Ctl|is|self|auto|distribute|invert|intrinsic)\\b`,\n        beginWord: true,\n      },\n      {\n        token: \"keyword\",\n        regex: String.raw`(let|set|use|borrow|mutable)\\b`,\n        beginWord: true,\n      },\n      {\n        token: \"operatorKeyword\",\n        regex: String.raw`(not|and|or)\\b|(w/)`,\n        beginWord: true,\n      },\n      {\n        token: \"operatorKeyword\",\n        regex: String.raw`(=)|(!)|(<)|(>)|(\\+)|(-)|(\\*)|(/)|(\\^)|(%)|(\\|)|(&&&)|(~~~)|(\\.\\.\\.)|(\\.\\.)|(\\?)`,\n        beginWord: false,\n      },\n      {\n        token: \"meta\",\n        regex: String.raw`(Int|BigInt|Double|Bool|Qubit|Pauli|Result|Range|String|Unit)\\b`,\n        beginWord: true,\n      },\n      {\n        token: \"atom\",\n        regex: String.raw`(true|false|Pauli(I|X|Y|Z)|One|Zero)\\b`,\n        beginWord: true,\n      },\n    ];\n    let simpleRules = [];\n    for (let rule of rules) {\n      simpleRules.push({\n        token: rule.token,\n        regex: new RegExp(rule.regex, \"g\"),\n        sol: rule.beginWord,\n      });\n      if (rule.beginWord) {\n        // Need an additional rule due to the fact that CodeMirror simple mode doesn't work with ^ token\n        simpleRules.push({\n          token: rule.token,\n          regex: new RegExp(String.raw`\\W` + rule.regex, \"g\"),\n          sol: false,\n        });\n      }\n    }\n\n    // Register the mode defined above with CodeMirror\n    window.CodeMirror.defineSimpleMode(\"qsharp\", { start: simpleRules });\n    window.CodeMirror.defineMIME(\"text/x-qsharp\", \"qsharp\");\n\n    // Tell Jupyter to associate %%qsharp magic cells with the qsharp mode\n    window.Jupyter.CodeCell.options_default.highlight_modes[\"qsharp\"] = {\n      reg: [/^%%qsharp/],\n    };\n\n    // Force re-highlighting of all cells the first time this code runs\n    for (const cell of window.Jupyter.notebook.get_cells()) {\n      cell.auto_highlight();\n    }\n  });\n}\n",
      "text/plain": []
     },
     "metadata": {},
     "output_type": "display_data"
    }
   ],
   "source": [
    "import qsharp"
   ]
  },
  {
   "cell_type": "code",
   "execution_count": 2,
   "metadata": {
    "vscode": {
     "languageId": "qsharp"
    }
   },
   "outputs": [],
   "source": [
    "%%qsharp\n",
    "namespace Sample {\n",
    "\n",
    "    // open Microsoft.Quantum.Intrinsic;\n",
    "    // open Microsoft.Quantum.Canon;\n",
    "\n",
    "    operation RandomBit() : Result[] {\n",
    "        use qubits = Qubit[3];\n",
    "\n",
    "        // Apply gates\n",
    "        H(qubits[0]);\n",
    "        H(qubits[1]);\n",
    "        T(qubits[2]);\n",
    "\n",
    "        CCNOT(qubits[0], qubits[1], qubits[2]);\n",
    "\n",
    "        // Measure the qubits\n",
    "        let results = [M(qubits[0]), M(qubits[1]), M(qubits[2])];\n",
    "\n",
    "        // Reset the qubits\n",
    "        ResetAll(qubits);\n",
    "        return results;\n",
    "    }\n",
    "}"
   ]
  },
  {
   "cell_type": "markdown",
   "metadata": {},
   "source": [
    "Usually, the resource estimator takes a set of inputs with predefined values:\n",
    "- Physical qubit model\n",
    "- QEC code\n",
    "- Error budget\n",
    "- Constraints\n",
    "- Distillation units\n",
    "- Pareto frontier estimation\n",
    "\n",
    "However, we can also pre-calculate estimates for an operation and incorporate them (which will come later).\n",
    "\n",
    "#### Physical Qubit Parameters\n",
    "For the physcial qubit (gate-based) instruction set, there are four predefined qubit models. These are listed [here](https://learn.microsoft.com/en-us/azure/quantum/overview-resources-estimator), along with the complete predefined qubit parameters. For example, below, we can do a Pareto frontier estimation for two \"transmon qubits\" (`qubit_gate_ns_e3` operation times and fidelities correspond to \"realistic\" future transmon qubits) in a surface code, but modify the one qubit gate error rate for each of them."
   ]
  },
  {
   "cell_type": "code",
   "execution_count": 3,
   "metadata": {},
   "outputs": [
    {
     "data": {},
     "metadata": {},
     "output_type": "display_data"
    },
    {
     "data": {
      "application/vnd.jupyter.widget-view+json": {
       "model_id": "1425c5ae65ea4f238b08e376783d530f",
       "version_major": 2,
       "version_minor": 1
      },
      "text/plain": [
       "EstimatesOverview(colors=['#1f77b4', '#33ffe6'], estimates={0: {'status': 'success', 'jobParams': {'qecScheme'…"
      ]
     },
     "execution_count": 3,
     "metadata": {},
     "output_type": "execute_result"
    }
   ],
   "source": [
    "from qsharp_widgets import EstimatesOverview\n",
    "\n",
    "result = qsharp.estimate(\n",
    "    \"Sample.RandomBit()\",\n",
    "    [\n",
    "        {\n",
    "        \"qubitParams\": { \"name\": \"qubit_gate_ns_e3\" ,\n",
    "                        \"oneQubitGateErrorRate\": 1e-3,\n",
    "                        },\n",
    "        \"qecScheme\": { \"name\": \"surface_code\" },\n",
    "        \"estimateType\": \"frontier\", # Pareto frontier estimation\n",
    "        },\n",
    "        {\n",
    "        \"qubitParams\": { \"name\": \"qubit_gate_ns_e3\" ,\n",
    "                        \"oneQubitGateErrorRate\": 5e-3,  # Fixed key\n",
    "                        },\n",
    "        \"qecScheme\": { \"name\": \"surface_code\" },\n",
    "        \"estimateType\": \"frontier\", # Pareto frontier estimation\n",
    "        },\n",
    "    ]\n",
    ")\n",
    "\n",
    "EstimatesOverview(result, colors=[\"#1f77b4\",\"#33ffe6\"], runNames=[\"oneQubitGateErrorRate = 1e-3\", \"oneQubitGateErrorRate = 5e-3\"])"
   ]
  },
  {
   "cell_type": "markdown",
   "metadata": {},
   "source": [
    "#### Different QEC Schemes\n",
    "The resource estimator uses the following model to compute logical error rates (note that this can be modified like [here](https://github.com/Alice-Bob-SW/qsharp-alice-bob-resource-estimator), as we will later see)\n",
    "$$\n",
    "P = a(\\frac{p}{p*})^{\\frac{d+1}{2}}\n",
    "$$\n",
    "where $a$ is the corssing pre-factor (extracted numerically for simulations), $d$ is the code distance, $p$ is the physical error rate and $p*$ is the QEC threshold. The physical error rate $p$ is extracted from the qubit parameters as the worst-case error rate of any physical Clifford operation performed in the device. For transmons, the only predefined QEC code is the surface code, with the predefined parameters shown [here](https://learn.microsoft.com/en-us/azure/quantum/overview-resources-estimator). \n",
    "\n",
    "We can compare two surface code architechtures with differing thresholds."
   ]
  },
  {
   "cell_type": "code",
   "execution_count": 4,
   "metadata": {},
   "outputs": [
    {
     "data": {},
     "metadata": {},
     "output_type": "display_data"
    },
    {
     "data": {
      "application/vnd.jupyter.widget-view+json": {
       "model_id": "392ddecbbf924cb792073bd437d9b5bb",
       "version_major": 2,
       "version_minor": 1
      },
      "text/plain": [
       "EstimatesOverview(colors=['#1f77b4', '#33ffe6'], estimates={0: {'status': 'success', 'jobParams': {'qecScheme'…"
      ]
     },
     "execution_count": 4,
     "metadata": {},
     "output_type": "execute_result"
    }
   ],
   "source": [
    "result = qsharp.estimate(\n",
    "    \"Sample.RandomBit()\",\n",
    "    [\n",
    "        {\n",
    "        \"qubitParams\": { \"name\": \"qubit_gate_ns_e3\" ,\n",
    "                        },\n",
    "        \"qecScheme\": { \"name\": \"surface_code\" ,\n",
    "                      \"errorCorrectionThreshold\": 0.02},\n",
    "        \"estimateType\": \"frontier\", # Pareto frontier estimation\n",
    "        },\n",
    "        {\n",
    "        \"qubitParams\": { \"name\": \"qubit_gate_ns_e3\" ,\n",
    "                        },\n",
    "        \"qecScheme\": { \"name\": \"surface_code\" },\n",
    "        \"estimateType\": \"frontier\", # Pareto frontier estimation\n",
    "        },\n",
    "    ]\n",
    ")\n",
    "\n",
    "EstimatesOverview(result, colors=[\"#1f77b4\",\"#33ffe6\"], runNames=[\"Threshold = 0.02\", \"Threshold = 0.01\"])"
   ]
  },
  {
   "cell_type": "markdown",
   "metadata": {},
   "source": [
    "The  followiing template can be used for different QEC codes:\n",
    "```\n",
    "qsharp.estimate(\"RunProgram()\", params=\n",
    "                {\"qecScheme\": {\n",
    "                        \"crossingPrefactor\": <double>,\n",
    "                        \"errorCorrectionThreshold\": <double>,\n",
    "                        \"logicalCycleTime\": <formula string>,\n",
    "                        \"physicalQubitsPerLogicalQubit\": <formula string>\n",
    "                    }\n",
    "                })\n",
    "```\n",
    "\n",
    "Further described in the [tutorial](https://learn.microsoft.com/en-us/azure/quantum/overview-resources-estimator), we can modify the error budget, use the `constraints` class to aply constraints on the T factory componenet level and provide specifications for T factories distillation algorithms with the `DistillationUnitSpecification` class."
   ]
  }
 ],
 "metadata": {
  "kernelspec": {
   "display_name": "Python 3",
   "language": "python",
   "name": "python3"
  },
  "language_info": {
   "codemirror_mode": {
    "name": "ipython",
    "version": 3
   },
   "file_extension": ".py",
   "mimetype": "text/x-python",
   "name": "python",
   "nbconvert_exporter": "python",
   "pygments_lexer": "ipython3",
   "version": "3.11.10"
  }
 },
 "nbformat": 4,
 "nbformat_minor": 2
}
