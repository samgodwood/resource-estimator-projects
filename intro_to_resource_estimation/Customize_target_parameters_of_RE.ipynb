{
 "cells": [
  {
   "cell_type": "markdown",
   "metadata": {},
   "source": [
    "# Customizing the Target Parameters of the Resource Estimator "
   ]
  },
  {
   "cell_type": "code",
   "execution_count": null,
   "metadata": {},
   "outputs": [],
   "source": [
    "import qsharp"
   ]
  },
  {
   "cell_type": "code",
   "execution_count": 2,
   "metadata": {
    "vscode": {
     "languageId": "qsharp"
    }
   },
   "outputs": [],
   "source": [
    "%%qsharp\n",
    "namespace Sample {\n",
    "\n",
    "    // open Microsoft.Quantum.Intrinsic;\n",
    "    // open Microsoft.Quantum.Canon;\n",
    "\n",
    "    operation RandomBit() : Result[] {\n",
    "        use qubits = Qubit[3];\n",
    "\n",
    "        // Apply gates\n",
    "        H(qubits[0]);\n",
    "        H(qubits[1]);\n",
    "        T(qubits[2]);\n",
    "\n",
    "        CCNOT(qubits[0], qubits[1], qubits[2]);\n",
    "\n",
    "        // Measure the qubits\n",
    "        let results = [M(qubits[0]), M(qubits[1]), M(qubits[2])];\n",
    "\n",
    "        // Reset the qubits\n",
    "        ResetAll(qubits);\n",
    "        return results;\n",
    "    }\n",
    "}"
   ]
  },
  {
   "cell_type": "markdown",
   "metadata": {},
   "source": [
    "Usually, the resource estimator takes a set of inputs with predefined values:\n",
    "- Physical qubit model\n",
    "- QEC code\n",
    "- Error budget\n",
    "- Constraints\n",
    "- Distillation units\n",
    "- Pareto frontier estimation\n",
    "\n",
    "However, we can also pre-calculate estimates for an operation and incorporate them (which will come later).\n",
    "\n",
    "#### Physical Qubit Parameters\n",
    "For the physcial qubit (gate-based) instruction set, there are four predefined qubit models. These are listed [here](https://learn.microsoft.com/en-us/azure/quantum/overview-resources-estimator), along with the complete predefined qubit parameters. For example, below, we can do a Pareto frontier estimation for two \"transmon qubits\" (`qubit_gate_ns_e3` operation times and fidelities correspond to \"realistic\" future transmon qubits) in a surface code, but modify the one qubit gate error rate for each of them."
   ]
  },
  {
   "cell_type": "code",
   "execution_count": null,
   "metadata": {},
   "outputs": [],
   "source": [
    "from qsharp_widgets import EstimatesOverview\n",
    "\n",
    "result = qsharp.estimate(\n",
    "    \"Sample.RandomBit()\",\n",
    "    [\n",
    "        {\n",
    "        \"qubitParams\": { \"name\": \"qubit_gate_ns_e3\" ,\n",
    "                        \"oneQubitGateErrorRate\": 1e-3,\n",
    "                        },\n",
    "        \"qecScheme\": { \"name\": \"surface_code\" },\n",
    "        \"estimateType\": \"frontier\", # Pareto frontier estimation\n",
    "        },\n",
    "        {\n",
    "        \"qubitParams\": { \"name\": \"qubit_gate_ns_e3\" ,\n",
    "                        \"oneQubitGateErrorRate\": 5e-3,  # Fixed key\n",
    "                        },\n",
    "        \"qecScheme\": { \"name\": \"surface_code\" },\n",
    "        \"estimateType\": \"frontier\", # Pareto frontier estimation\n",
    "        },\n",
    "    ]\n",
    ")\n",
    "\n",
    "EstimatesOverview(result, colors=[\"#1f77b4\",\"#33ffe6\"], runNames=[\"oneQubitGateErrorRate = 1e-3\", \"oneQubitGateErrorRate = 5e-3\"])"
   ]
  },
  {
   "cell_type": "markdown",
   "metadata": {},
   "source": [
    "#### Different QEC Schemes\n",
    "The resource estimator uses the following model to compute logical error rates (note that this can be modified like [here](https://github.com/Alice-Bob-SW/qsharp-alice-bob-resource-estimator), as we will later see)\n",
    "$$\n",
    "P = a(\\frac{p}{p*})^{\\frac{d+1}{2}}\n",
    "$$\n",
    "where $a$ is the corssing pre-factor (extracted numerically for simulations), $d$ is the code distance, $p$ is the physical error rate and $p*$ is the QEC threshold. The physical error rate $p$ is extracted from the qubit parameters as the worst-case error rate of any physical Clifford operation performed in the device. For transmons, the only predefined QEC code is the surface code, with the predefined parameters shown [here](https://learn.microsoft.com/en-us/azure/quantum/overview-resources-estimator). \n",
    "\n",
    "We can compare two surface code architechtures with differing thresholds."
   ]
  },
  {
   "cell_type": "code",
   "execution_count": null,
   "metadata": {},
   "outputs": [],
   "source": [
    "result = qsharp.estimate(\n",
    "    \"Sample.RandomBit()\",\n",
    "    [\n",
    "        {\n",
    "        \"qubitParams\": { \"name\": \"qubit_gate_ns_e3\" ,\n",
    "                        },\n",
    "        \"qecScheme\": { \"name\": \"surface_code\" ,\n",
    "                      \"errorCorrectionThreshold\": 0.02},\n",
    "        \"estimateType\": \"frontier\", # Pareto frontier estimation\n",
    "        },\n",
    "        {\n",
    "        \"qubitParams\": { \"name\": \"qubit_gate_ns_e3\" ,\n",
    "                        },\n",
    "        \"qecScheme\": { \"name\": \"surface_code\" },\n",
    "        \"estimateType\": \"frontier\", # Pareto frontier estimation\n",
    "        },\n",
    "    ]\n",
    ")\n",
    "\n",
    "EstimatesOverview(result, colors=[\"#1f77b4\",\"#33ffe6\"], runNames=[\"Threshold = 0.02\", \"Threshold = 0.01\"])"
   ]
  },
  {
   "cell_type": "markdown",
   "metadata": {},
   "source": [
    "The  followiing template can be used for different QEC codes:\n",
    "```\n",
    "qsharp.estimate(\"RunProgram()\", params=\n",
    "                {\"qecScheme\": {\n",
    "                        \"crossingPrefactor\": <double>,\n",
    "                        \"errorCorrectionThreshold\": <double>,\n",
    "                        \"logicalCycleTime\": <formula string>,\n",
    "                        \"physicalQubitsPerLogicalQubit\": <formula string>\n",
    "                    }\n",
    "                })\n",
    "```\n",
    "\n",
    "Further described in the [tutorial](https://learn.microsoft.com/en-us/azure/quantum/overview-resources-estimator), we can modify the error budget, use the `constraints` class to aply constraints on the T factory componenet level and provide specifications for T factories distillation algorithms with the `DistillationUnitSpecification` class."
   ]
  }
 ],
 "metadata": {
  "kernelspec": {
   "display_name": "Python 3",
   "language": "python",
   "name": "python3"
  },
  "language_info": {
   "codemirror_mode": {
    "name": "ipython",
    "version": 3
   },
   "file_extension": ".py",
   "mimetype": "text/x-python",
   "name": "python",
   "nbconvert_exporter": "python",
   "pygments_lexer": "ipython3",
   "version": "3.11.10"
  }
 },
 "nbformat": 4,
 "nbformat_minor": 2
}
